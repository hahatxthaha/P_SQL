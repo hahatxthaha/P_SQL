{
 "cells": [
  {
   "cell_type": "markdown",
   "id": "dbdae5ff-050d-4a17-8591-571b67f295ba",
   "metadata": {},
   "source": [
    "# 📚 Refernce"
   ]
  },
  {
   "cell_type": "markdown",
   "id": "76a28091-bc1a-481c-8cfc-1987d8d60106",
   "metadata": {},
   "source": [
    "- [Python sqlite3: DB-API 2.0 interface for SQLite databases](https://docs.python.org/3/library/sqlite3.html)\n",
    "- [PEP 249 -- Python Database API Specification v2.0](https://www.python.org/dev/peps/pep-0249/)\n",
    "- [SQLite Download Page](https://www.sqlite.org/download.html)\n",
    "- [Command Line Shell For SQLite](https://www.sqlite.org/cli.html)\n",
    "- [SQLite Sample Database](https://www.sqlitetutorial.net/sqlite-sample-database/)\n",
    "- [SQLite Python](https://www.sqlitetutorial.net/sqlite-python/)\n",
    "- [How to Connect to SQLite Database in Python 3](https://elearning.wsldp.com/python3/connect-sqlite-database-in-python-3/)\n",
    "- [SQLite Commands](https://www.sqlitetutorial.net/sqlite-commands/)\n",
    "- [SQLite Describe Table](https://www.sqlitetutorial.net/sqlite-tutorial/sqlite-describe-table/)\n",
    "- [W3School: SQL Tutorial](https://www.w3schools.com/sql/)\n",
    "- [SQL Cheat Sheet](https://www.sqltutorial.org/sql-cheat-sheet/)\n",
    "- [Python網頁爬蟲—將資料存到SQLite資料庫](https://yhhuang1966.blogspot.com/2018/04/python-sqlite_28.html)\n",
    "- [Python資料庫學習筆記(六)：SQLite3](https://yanwei-liu.medium.com/python%E8%B3%87%E6%96%99%E5%BA%AB%E5%AD%B8%E7%BF%92%E7%AD%86%E8%A8%98-%E5%85%AD-sqlite3-818ca8e7eff5)\n",
    "---------------------\n",
    "- [Python MySQL: Get Started](https://www.w3schools.com/python/python_mysql_getstarted.asp)\n",
    "- [Querying Data Using fetchone(), fetchmany(), and fetchall() Methods](https://www.oracletutorial.com/python-oracle/querying-data-using-fetchone-fetchmany-and-fetchall-methods/)\n",
    "- [使用 pymssql 連接 MS SQL Server](https://medium.com/@acer1832a/%E4%BD%BF%E7%94%A8-pymssql-%E9%80%A3%E6%8E%A5-ms-sql-server-9bcb6cd0c92c)"
   ]
  },
  {
   "cell_type": "markdown",
   "id": "1b61e73a-40ef-4480-a540-48839cad4cfc",
   "metadata": {},
   "source": [
    "# 🔥 Get Started\n",
    "\n",
    "- [The Schema Table](https://www.sqlite.org/schematab.html)"
   ]
  },
  {
   "cell_type": "markdown",
   "id": "18a78165-059a-4236-a320-b5940facc64a",
   "metadata": {},
   "source": [
    "## 📝 table list and schemas"
   ]
  },
  {
   "cell_type": "code",
   "execution_count": 87,
   "id": "a06aef34-2a44-4cf6-a8ad-34abc7bc2b5d",
   "metadata": {},
   "outputs": [],
   "source": [
    "import sqlite3\n",
    "from os import path\n",
    "\n",
    "data_dir = './'\n",
    "\n",
    "join_db = path.join(data_dir, \"join.db\")\n",
    "self_join = path.join(data_dir, \"self_join.db\")\n",
    "tutorial = path.join(data_dir, \"tutorial.db\")\n",
    "salary = path.join(data_dir, \"salary.db\")\n",
    "jinsert = path.join(data_dir, \"join-insert.db\")"
   ]
  },
  {
   "cell_type": "markdown",
   "id": "d2c45852-589e-4b45-ad98-2c493942497c",
   "metadata": {},
   "source": [
    "1. connect --> 要求 dBMS 保留資源給我們，同時要隨時聽我們的指令\n",
    "\n",
    "2. get a cursor --> 下指令的代理者 \n",
    "\n",
    "3. cursor.execute(cmd) --> 執行指令\n",
    "\n",
    "4. fetch result  --> 傳回值放在 list (tuples) 中， 用 iterate 方式取出\n",
    "\n",
    "5.               --> 若是 update/insert/delete 類指令，用 cursor.rowcount 可得知受影響的資料筆數"
   ]
  },
  {
   "cell_type": "code",
   "execution_count": null,
   "id": "b3c10971-2992-4629-aadf-42849dba56e0",
   "metadata": {},
   "outputs": [],
   "source": [
    "# https://www.sqlite.org/schematab.html\n",
    "\n",
    "import sqlite3\n",
    "\n",
    "db_name = jinsert\n",
    "connection = sqlite3.connect(db_name)\n",
    "cursor = connection.cursor()\n",
    "result = cursor.execute(\"SELECT name FROM sqlite_master WHERE type='table';\").fetchall()\n",
    "tables = [x[0] for x in result]  # <-- list\n",
    "\n",
    "print(f\"tables included in {db_name}\\n\")\n",
    "for t in tables:  # tables is iterable\n",
    "    print(f'--- [{t}] ---\\n')\n",
    "    sql_text = f\"SELECT sql FROM sqlite_master WHERE type = 'table' AND name = '{t}';\"\n",
    "    schema = cursor.execute(sql_text).fetchall()\n",
    "    print(schema[0][0])\n",
    "    print('')\n",
    "\n",
    "connection.close()"
   ]
  },
  {
   "cell_type": "markdown",
   "id": "60f3df92-4e99-456d-9ea4-9211a28ec90e",
   "metadata": {},
   "source": [
    "## 🤭 exception ?"
   ]
  },
  {
   "cell_type": "code",
   "execution_count": 165,
   "id": "a8a8f36c-b576-4fa4-98e8-45f3dfe2256e",
   "metadata": {},
   "outputs": [],
   "source": [
    "def create_connection(db_file):\n",
    "    conn = None\n",
    "    try:\n",
    "        conn = sqlite3.connect(db_file)\n",
    "    except Exception as e:\n",
    "        print(e)\n",
    "    return conn"
   ]
  },
  {
   "cell_type": "code",
   "execution_count": 166,
   "id": "7198b4f1-0707-472a-8b87-6525e5277216",
   "metadata": {},
   "outputs": [],
   "source": [
    "con = create_connection('./abc.txt')\n",
    "cur = con.cursor()\n",
    "cur.execute(\"SELECT name FROM sqlite_master WHERE type='table';\")\n",
    "con.close()"
   ]
  },
  {
   "cell_type": "code",
   "execution_count": 167,
   "id": "befa257a-5200-44f7-ab43-6eaf911967ba",
   "metadata": {},
   "outputs": [
    {
     "name": "stdout",
     "output_type": "stream",
     "text": [
      "[]\n"
     ]
    }
   ],
   "source": [
    "con = create_connection('./abcabc.db')\n",
    "cur = con.cursor()\n",
    "result = cur.execute(\"SELECT name FROM sqlite_master WHERE type='table';\").fetchall()\n",
    "print(result)\n",
    "con.close()"
   ]
  },
  {
   "cell_type": "code",
   "execution_count": 168,
   "id": "3712676d-a433-4ad8-95f4-02377d1d64ad",
   "metadata": {},
   "outputs": [
    {
     "ename": "DatabaseError",
     "evalue": "file is not a database",
     "output_type": "error",
     "traceback": [
      "\u001b[0;31m---------------------------------------------------------------------------\u001b[0m",
      "\u001b[0;31mDatabaseError\u001b[0m                             Traceback (most recent call last)",
      "\u001b[0;32m/var/folders/tk/rv89xp1n5_q9z8f1qtmvhgsc0000gn/T/ipykernel_58028/2570299385.py\u001b[0m in \u001b[0;36m<module>\u001b[0;34m\u001b[0m\n\u001b[1;32m      1\u001b[0m \u001b[0mcon\u001b[0m \u001b[0;34m=\u001b[0m \u001b[0mcreate_connection\u001b[0m\u001b[0;34m(\u001b[0m\u001b[0mpath\u001b[0m\u001b[0;34m.\u001b[0m\u001b[0mjoin\u001b[0m\u001b[0;34m(\u001b[0m\u001b[0mdata_dir\u001b[0m\u001b[0;34m,\u001b[0m \u001b[0;34m'join_insert.txt'\u001b[0m\u001b[0;34m)\u001b[0m\u001b[0;34m)\u001b[0m\u001b[0;34m\u001b[0m\u001b[0;34m\u001b[0m\u001b[0m\n\u001b[1;32m      2\u001b[0m \u001b[0mcur\u001b[0m \u001b[0;34m=\u001b[0m \u001b[0mcon\u001b[0m\u001b[0;34m.\u001b[0m\u001b[0mcursor\u001b[0m\u001b[0;34m(\u001b[0m\u001b[0;34m)\u001b[0m\u001b[0;34m\u001b[0m\u001b[0;34m\u001b[0m\u001b[0m\n\u001b[0;32m----> 3\u001b[0;31m \u001b[0mcur\u001b[0m\u001b[0;34m.\u001b[0m\u001b[0mexecute\u001b[0m\u001b[0;34m(\u001b[0m\u001b[0;34m\"SELECT name FROM sqlite_master WHERE type='table';\"\u001b[0m\u001b[0;34m)\u001b[0m\u001b[0;34m\u001b[0m\u001b[0;34m\u001b[0m\u001b[0m\n\u001b[0m\u001b[1;32m      4\u001b[0m \u001b[0mcon\u001b[0m\u001b[0;34m.\u001b[0m\u001b[0mclose\u001b[0m\u001b[0;34m(\u001b[0m\u001b[0;34m)\u001b[0m\u001b[0;34m\u001b[0m\u001b[0;34m\u001b[0m\u001b[0m\n",
      "\u001b[0;31mDatabaseError\u001b[0m: file is not a database"
     ]
    }
   ],
   "source": [
    "con = create_connection(path.join(data_dir, 'join_insert.txt'))\n",
    "cur = con.cursor()\n",
    "cur.execute(\"SELECT name FROM sqlite_master WHERE type='table';\")\n",
    "con.close()"
   ]
  },
  {
   "cell_type": "code",
   "execution_count": 169,
   "id": "4ea24978-4bef-40b7-9ef9-859dbc6c82bc",
   "metadata": {},
   "outputs": [
    {
     "name": "stdout",
     "output_type": "stream",
     "text": [
      "執行 SQL 指令發生錯誤：file is not a database\n"
     ]
    }
   ],
   "source": [
    "con = create_connection(path.join(data_dir, 'join_insert.txt'))\n",
    "cur = con.cursor()\n",
    "try:\n",
    "    cur.execute(\"SELECT name FROM sqlite_master WHERE type='table';\")\n",
    "except Exception as e:\n",
    "    print(f'執行 SQL 指令發生錯誤：{e}')\n",
    "con.close()"
   ]
  },
  {
   "cell_type": "code",
   "execution_count": 173,
   "id": "9bfc270e-8190-46f0-9488-4a2acc229885",
   "metadata": {},
   "outputs": [
    {
     "name": "stdout",
     "output_type": "stream",
     "text": [
      "執行 SQL 指令發生錯誤：near \"from\": syntax error\n"
     ]
    }
   ],
   "source": [
    "con = create_connection(salary)\n",
    "cur = con.cursor()\n",
    "try:\n",
    "    cur.execute(\"SELECT from abc;\")\n",
    "except Exception as e:\n",
    "    print(f'執行 SQL 指令發生錯誤：{e}')\n",
    "con.close()"
   ]
  },
  {
   "cell_type": "markdown",
   "id": "15959b45-3143-476c-ad0b-fb627a329e35",
   "metadata": {},
   "source": [
    "## 🆒 join test"
   ]
  },
  {
   "cell_type": "code",
   "execution_count": 174,
   "id": "a523b683-e64a-4b04-a764-fdc89b170ce9",
   "metadata": {},
   "outputs": [],
   "source": [
    "inner1 = \"SELECT u.user_id, l.user_id, u.name, u.createdAt, l.list_name, l.description \" \\\n",
    "\"FROM user u \" \\\n",
    "\"INNER JOIN list l ON u.user_id = l.user_id;\"\n",
    "\n",
    "inner2 = \"SELECT u.name, l.list_name, s.artist, s.song_name \" \\\n",
    "\"FROM user u \" \\\n",
    "\"INNER JOIN list l on u.user_id = l.user_id \" \\\n",
    "\"INNER JOIN song s ON s.list_id = l.list_id;\" \n",
    "\n",
    "left1 = \"SELECT l.list_name, l.description, s.artist, s.song_name \" \\\n",
    "\"FROM list l \" \\\n",
    "\"LEFT JOIN song s ON l.list_id = s.list_id;\" \\\n",
    "\n",
    "left2 = \"SELECT u.name, u.createdAt, l.list_name, l.description, s.artist, s.song_name \" \\\n",
    "\"FROM user u \" \\\n",
    "\"LEFT JOIN list l on u.user_id = l.user_id \" \\\n",
    "\"LEFT JOIN song s ON s.list_id = l.list_id;\"\n",
    "\n",
    "diff = \"SELECT u.name, u.createdAt, l.list_name \" \\\n",
    "\"FROM user u \" \\\n",
    "\"LEFT JOIN list l ON u.user_id = l.user_id \" \\\n",
    "\"WHERE l.list_name IS NULL;\"\n",
    "\n",
    "report1 = \"SELECT m.name AS `Manager`,  e.name AS `Direct Report` \" \\\n",
    "\"FROM employee AS e \" \\\n",
    "\"INNER JOIN employee AS m \" \\\n",
    "\"ON m.name = e.report_to \" \\\n",
    "\"ORDER BY `Manager`;\" \n",
    "\n",
    "report2 = \"SELECT m.name AS `Manager`,  e.name AS `Direct Report` \" \\\n",
    "\"FROM employee AS e \" \\\n",
    "\"LEFT JOIN employee AS m \" \\\n",
    "\"ON m.name = e.report_to \" \\\n",
    "\"ORDER BY `Manager`;\" \n",
    "\n",
    "cte_demo = \"with list_id_to_song_cnt AS ( \" \\\n",
    "\"select list_id, COUNT(song_name) as count \" \\\n",
    "\"from song \" \\\n",
    "\"group by list_id) \" \\\n",
    "\"select t1.list_id, t1.list_name, IFNULL(t2.count, 0) \" \\\n",
    "\"from list AS t1 \" \\\n",
    "\"left join list_id_to_song_cnt AS t2 on t1.list_id = t2.list_id;\""
   ]
  },
  {
   "cell_type": "markdown",
   "id": "b2fc2bca-e318-4836-94e4-c4745c3077f6",
   "metadata": {},
   "source": [
    "連接兩列 \\"
   ]
  },
  {
   "cell_type": "code",
   "execution_count": 126,
   "id": "fae81977-fbe9-4c26-b255-200f9d22bc42",
   "metadata": {},
   "outputs": [],
   "source": [
    "sql_string = \"SELECT \\\n",
    "  users.name AS user, \\\n",
    "  products.name AS favorite \\\n",
    "  FROM users \\\n",
    "  INNER JOIN products ON users.fav = products.id\""
   ]
  },
  {
   "cell_type": "code",
   "execution_count": 124,
   "id": "7fb24deb-ba63-4116-83ca-6e686ba80219",
   "metadata": {},
   "outputs": [
    {
     "data": {
      "text/plain": [
       "'SELECT m.name AS `Manager`,  e.name AS `Direct Report` FROM employee AS e LEFT JOIN employee AS m ON m.name = e.report_to ORDER BY `Manager`;'"
      ]
     },
     "execution_count": 124,
     "metadata": {},
     "output_type": "execute_result"
    }
   ],
   "source": [
    "report2"
   ]
  },
  {
   "cell_type": "code",
   "execution_count": 127,
   "id": "2261a291-7863-4ff3-abb6-9862aaa26d11",
   "metadata": {},
   "outputs": [
    {
     "data": {
      "text/plain": [
       "'SELECT   users.name AS user,   products.name AS favorite   FROM users   INNER JOIN products ON users.fav = products.id'"
      ]
     },
     "execution_count": 127,
     "metadata": {},
     "output_type": "execute_result"
    }
   ],
   "source": [
    "sql_string"
   ]
  },
  {
   "cell_type": "code",
   "execution_count": 175,
   "id": "2a22b66c-3077-4ff7-91a2-ce6f2f171d93",
   "metadata": {},
   "outputs": [],
   "source": [
    "cmds = {\n",
    "    \"inner_join_2\": inner1, # join_db\n",
    "    \"inner_join_3\": inner2,\n",
    "    \"left_join_2\": left1,\n",
    "    \"left_join_3\" :left2,\n",
    "    \"difference\": diff,\n",
    "    \"whos_boss\": report1,  # self_join\n",
    "    \"whos_staff\": report2,\n",
    "    \"cte\": cte_demo        # jinsert\n",
    "}"
   ]
  },
  {
   "cell_type": "markdown",
   "id": "52bc02c8-4d55-485c-9779-b42f72021e61",
   "metadata": {},
   "source": [
    "## fetchall()"
   ]
  },
  {
   "cell_type": "code",
   "execution_count": 129,
   "id": "26f22983-e57a-4600-a541-0f4f0ffafb31",
   "metadata": {},
   "outputs": [],
   "source": [
    "db = join_db  # <-- join_db already defined\n",
    "connection = sqlite3.connect(db)\n",
    "cursor = connection.cursor()\n",
    "sql = cmds['inner_join_2']\n",
    "\n",
    "result = cursor.execute(sql).fetchall()\n",
    "\n",
    "connection.close()"
   ]
  },
  {
   "cell_type": "code",
   "execution_count": 135,
   "id": "685ac649-95db-44cf-bb20-76e6d0b26820",
   "metadata": {},
   "outputs": [
    {
     "name": "stdout",
     "output_type": "stream",
     "text": [
      "(0, 0, 'tall15421542', '2020-10-21 16:10:10', 'a peaceful place', 'peace')\n",
      "(0, 0, 'tall15421542', '2020-10-21 16:10:10', '3:30 am gratitude', 'gratitude')\n",
      "(0, 0, 'tall15421542', '2020-10-21 16:10:10', 'at coffee lofi', 'I love coffee')\n",
      "(1, 1, 'fivefishes5', '2020-10-21 16:10:10', 'RAINING IN NEW YORK', 'new york vibe')\n",
      "(1, 1, 'fivefishes5', '2020-10-21 16:10:10', 'Autumn rainy day', 'autumn already')\n",
      "(2, 2, '997_416', '2020-10-21 16:10:10', 'Campfire cracking', 'camping vibe')\n",
      "(2, 2, '997_416', '2020-10-21 16:10:10', 'JazzHop Love', 'Jazz Lover')\n",
      "(3, 3, 'lmnooney', '2020-10-21 16:10:10', 'coldplay', 'coldplay collection')\n",
      "(4, 4, 'david_chen', '2020-10-21 16:10:10', 'kudasai beats', 'favorite lofi')\n"
     ]
    }
   ],
   "source": [
    "for row in result:\n",
    "    # print(type(row))\n",
    "    print(row)"
   ]
  },
  {
   "cell_type": "code",
   "execution_count": 141,
   "id": "4c4043e4-13d4-4e8b-85e2-210f2508a1a5",
   "metadata": {},
   "outputs": [
    {
     "name": "stdout",
     "output_type": "stream",
     "text": [
      "('winniehu', '2020-10-27 12:38:48', None)\n",
      "('smartboy', '2020-10-27 12:38:48', None)\n"
     ]
    }
   ],
   "source": [
    "db = join_db  # <-- join_db already defined\n",
    "connection = sqlite3.connect(db)\n",
    "cursor = connection.cursor()\n",
    "sql = cmds['difference']\n",
    "\n",
    "cursor.execute(sql)\n",
    "result = cursor.fetchall()\n",
    "\n",
    "for row in result:\n",
    "    print(row)\n",
    "    \n",
    "connection.close()"
   ]
  },
  {
   "cell_type": "code",
   "execution_count": 178,
   "id": "9b00311f-8daf-4578-8385-646dae441c66",
   "metadata": {},
   "outputs": [
    {
     "name": "stdout",
     "output_type": "stream",
     "text": [
      "(0, 'a peaceful place', 7)\n",
      "(1, '3:30 am gratitude', 3)\n",
      "(2, 'at coffee lofi', 2)\n",
      "(3, 'RAINING IN NEW YORK', 0)\n",
      "(4, 'Autumn rainy day', 2)\n",
      "(5, 'Campfire cracking', 4)\n",
      "(6, 'JazzHop Love', 0)\n",
      "(7, 'coldplay', 3)\n",
      "(8, 'kudasai beats', 0)\n"
     ]
    }
   ],
   "source": [
    "db = jinsert  \n",
    "connection = sqlite3.connect(db)\n",
    "cursor = connection.cursor()\n",
    "\n",
    "result = cursor.execute(cmds['cte']).fetchall()\n",
    "\n",
    "for row in result:\n",
    "    print(row)\n",
    "    \n",
    "connection.close()"
   ]
  },
  {
   "cell_type": "markdown",
   "id": "394ebd3e-ad6d-405f-8e48-a690f3d907bf",
   "metadata": {},
   "source": [
    "## fetch()"
   ]
  },
  {
   "cell_type": "code",
   "execution_count": 142,
   "id": "0afc5a6f-8d14-4667-ad7c-d772c748dacc",
   "metadata": {},
   "outputs": [
    {
     "name": "stdout",
     "output_type": "stream",
     "text": [
      "('winniehu', '2020-10-27 12:38:48', None)\n",
      "('smartboy', '2020-10-27 12:38:48', None)\n"
     ]
    }
   ],
   "source": [
    "db = join_db  # <-- join_db already defined\n",
    "connection = sqlite3.connect(db)\n",
    "cursor = connection.cursor()\n",
    "sql = cmds['difference']\n",
    "\n",
    "for row in cursor.execute(sql):\n",
    "    print(row)\n",
    "    \n",
    "connection.close()"
   ]
  },
  {
   "cell_type": "markdown",
   "id": "59545c79-c37b-4502-975f-d7049097ec0e",
   "metadata": {},
   "source": [
    "## prettytable demo\n",
    "\n",
    "- [\\[Python\\] Pretty Table](https://medium.com/mr-brown/python-pretty-table-%E7%BE%8E%E9%BA%97%E7%9A%84%E8%A1%A8-a7879a47ade8)\n",
    "- [generating tables in Python with PrettyTable](https://zetcode.com/python/prettytable/)"
   ]
  },
  {
   "cell_type": "code",
   "execution_count": 143,
   "id": "d49a6fe3-2ece-41d3-acf9-a434a3fc040f",
   "metadata": {},
   "outputs": [],
   "source": [
    "def sqlite_exec(db: str, sql: str) -> list:\n",
    "    con = sqlite3.connect(db)\n",
    "    cur = con.cursor()\n",
    "    cur.execute(sql)\n",
    "    result = cur.fetchall()\n",
    "    con.close()\n",
    "    return result"
   ]
  },
  {
   "cell_type": "code",
   "execution_count": 145,
   "id": "dd810858-6357-4bd4-bfaf-30ce6ad81ad6",
   "metadata": {},
   "outputs": [
    {
     "name": "stdout",
     "output_type": "stream",
     "text": [
      "(None, 'tall15421542')\n",
      "('fivefishes', 'David chen')\n",
      "('fivefishes', 'Ming Hung Tsai')\n",
      "('lmnooney', 'fivefishes')\n",
      "('lmnooney', 'Yi Jing Tsai')\n",
      "('tall15421542', '997_416')\n",
      "('tall15421542', 'lmnooney')\n"
     ]
    }
   ],
   "source": [
    "db_name = self_join\n",
    "\n",
    "for row in sqlite_exec(db_name, cmds['whos_staff']):\n",
    "    print(row)"
   ]
  },
  {
   "cell_type": "code",
   "execution_count": 162,
   "id": "9ba08d64-b773-49a5-bbc5-6cc189e5484a",
   "metadata": {},
   "outputs": [
    {
     "name": "stdout",
     "output_type": "stream",
     "text": [
      "+---------------------+---------------------+----------------+---------------------------------+\n",
      "|      list name      |     description     |     artist     |            song name            |\n",
      "+---------------------+---------------------+----------------+---------------------------------+\n",
      "|   a peaceful place  |        peace        |  That's Cool   |          Days Like This         |\n",
      "|   a peaceful place  |        peace        |    t.Stratt    |           Giant Leaves          |\n",
      "|   a peaceful place  |        peace        |   Kainbeats    |     Lonely views in the park    |\n",
      "|   a peaceful place  |        peace        |     Osaki      |              Nagoro             |\n",
      "|   a peaceful place  |        peace        |   Dreweybear   |              Spirit             |\n",
      "|   a peaceful place  |        peace        |   Elijah Lee   |        shoreside memories       |\n",
      "|   a peaceful place  |        peace        |   Kainbeats    |         sunshine meadows        |\n",
      "|  3:30 am gratitude  |      gratitude      |    hoogway     |             ingenue             |\n",
      "|  3:30 am gratitude  |      gratitude      |     Lomtre     |            long night           |\n",
      "|  3:30 am gratitude  |      gratitude      |     Lomtre     |           purple city           |\n",
      "|    at coffee lofi   |    I love coffee    |   Chet Baker   |    I Fall In Love Too Easily    |\n",
      "|    at coffee lofi   |    I love coffee    |    Burbank     | seeing your name makes me happy |\n",
      "| RAINING IN NEW YORK |    new york vibe    |      None      |               None              |\n",
      "|   Autumn rainy day  |    autumn already   |  Cotton Vibe   |             If Only             |\n",
      "|   Autumn rainy day  |    autumn already   |   kainbeats    | Rays of Light on the Park Bench |\n",
      "|  Campfire cracking  |     camping vibe    |    dryhope     |             Landing             |\n",
      "|  Campfire cracking  |     camping vibe    | Hazy Year, C4C |              Melted             |\n",
      "|  Campfire cracking  |     camping vibe    |  Psalm Trees   |               Rain              |\n",
      "|  Campfire cracking  |     camping vibe    |  sleepy fish   |          Schoolgrounds          |\n",
      "|     JazzHop Love    |      Jazz Lover     |      None      |               None              |\n",
      "|       coldplay      | coldplay collection |    coldplay    |             Paradise            |\n",
      "|       coldplay      | coldplay collection |    coldplay    |          The scientists         |\n",
      "|       coldplay      | coldplay collection |    coldplay    |             fix you             |\n",
      "|    kudasai beats    |    favorite lofi    |      None      |               None              |\n",
      "+---------------------+---------------------+----------------+---------------------------------+\n"
     ]
    }
   ],
   "source": [
    "from prettytable import PrettyTable\n",
    "\n",
    "output = PrettyTable()\n",
    "\n",
    "# 如果要客製化表頭，修改 field_names 的內容,field_names 的元素個數\n",
    "# 必須和 select 指令選出來的欄位數相同：\n",
    "#\n",
    "# output.field_names = [\"欄位1\", \"欄位2\",....]\n",
    "#\n",
    "\n",
    "output.field_names = ['list name', 'description', 'artist', 'song name']\n",
    "\n",
    "for row in sqlite_exec(join_db, cmds['left_join_2']):\n",
    "    output.add_row(list(row))\n",
    "    \n",
    "print(output)"
   ]
  },
  {
   "cell_type": "code",
   "execution_count": 157,
   "id": "050f0ea4-529b-4166-8b60-2a6567e599c5",
   "metadata": {},
   "outputs": [
    {
     "name": "stdout",
     "output_type": "stream",
     "text": [
      "+--------------+----------------+\n",
      "|   Manager    | Direct Report  |\n",
      "+--------------+----------------+\n",
      "|  fivefishes  |   David chen   |\n",
      "|  fivefishes  | Ming Hung Tsai |\n",
      "|   lmnooney   |   fivefishes   |\n",
      "|   lmnooney   |  Yi Jing Tsai  |\n",
      "| tall15421542 |    997_416     |\n",
      "| tall15421542 |    lmnooney    |\n",
      "+--------------+----------------+\n"
     ]
    }
   ],
   "source": [
    "from prettytable import PrettyTable\n",
    "\n",
    "output = PrettyTable()\n",
    "output.field_names = [\"Manager\", \"Direct Report\"]\n",
    "\n",
    "for row in sqlite_exec(self_join, cmds['whos_boss']):\n",
    "    output.add_row(list(row))\n",
    "    \n",
    "print(output)"
   ]
  },
  {
   "cell_type": "code",
   "execution_count": null,
   "id": "71296688-9867-4607-94a3-db3c19d78fe7",
   "metadata": {},
   "outputs": [],
   "source": [
    "from prettytable import PrettyTable\n",
    "\n",
    "output = PrettyTable()\n",
    "output.field_names = [\"Manager\", \"Direct Report\"]\n",
    "\n",
    "for row in sqlite_exec(self_join, cmds['whos_boss']):\n",
    "    output.add_row(list(row))\n",
    "    \n",
    "print(output)"
   ]
  }
 ],
 "metadata": {
  "kernelspec": {
   "display_name": "Python 3 (ipykernel)",
   "language": "python",
   "name": "python3"
  },
  "language_info": {
   "codemirror_mode": {
    "name": "ipython",
    "version": 3
   },
   "file_extension": ".py",
   "mimetype": "text/x-python",
   "name": "python",
   "nbconvert_exporter": "python",
   "pygments_lexer": "ipython3",
   "version": "3.8.12"
  }
 },
 "nbformat": 4,
 "nbformat_minor": 5
}
