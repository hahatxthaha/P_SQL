{
 "cells": [
  {
   "cell_type": "markdown",
   "id": "76a28091-bc1a-481c-8cfc-1987d8d60106",
   "metadata": {},
   "source": [
    "- [Python sqlite3: DB-API 2.0 interface for SQLite databases](https://docs.python.org/3/library/sqlite3.html)\n",
    "- [PEP 249 -- Python Database API Specification v2.0](https://www.python.org/dev/peps/pep-0249/)\n",
    "- [SQLite Download Page](https://www.sqlite.org/download.html)\n",
    "- [Command Line Shell For SQLite](https://www.sqlite.org/cli.html)\n",
    "- [SQLite Sample Database](https://www.sqlitetutorial.net/sqlite-sample-database/)\n",
    "- [How to Connect to SQLite Database in Python 3](https://elearning.wsldp.com/python3/connect-sqlite-database-in-python-3/)\n",
    "- [SQLite Commands](https://www.sqlitetutorial.net/sqlite-commands/)\n",
    "- [SQLite Describe Table](https://www.sqlitetutorial.net/sqlite-tutorial/sqlite-describe-table/)\n",
    "- [W3School: SQL Tutorial](https://www.w3schools.com/sql/)\n",
    "- [SQL Cheat Sheet](https://www.sqltutorial.org/sql-cheat-sheet/)\n",
    "- [Python網頁爬蟲—將資料存到SQLite資料庫](https://yhhuang1966.blogspot.com/2018/04/python-sqlite_28.html)"
   ]
  },
  {
   "cell_type": "code",
   "execution_count": 24,
   "id": "b3c10971-2992-4629-aadf-42849dba56e0",
   "metadata": {},
   "outputs": [
    {
     "name": "stdout",
     "output_type": "stream",
     "text": [
      "tables include in tutorial.db\n",
      "   : user\n",
      "   : playlist\n",
      "------\n",
      "CREATE TABLE playlist(\n",
      "list_id INTEGER PRIMARY KEY,\n",
      "list_name TEXT NOT NULL,\n",
      "user_id TEXT NOT NULL,\n",
      "FOREIGN KEY(user_id) REFERENCES user(id)\n",
      ")\n"
     ]
    }
   ],
   "source": [
    "import sqlite3\n",
    "from os import path\n",
    "\n",
    "data_dir = './havefun/data/'\n",
    "\n",
    "connection = sqlite3.connect(path.join(data_dir, 'tutorial.db'))\n",
    "cursor = connection.cursor()\n",
    "result = cursor.execute(\"SELECT name FROM sqlite_master WHERE type='table';\").fetchall()\n",
    "tables = [x[0] for x in result]\n",
    "schema = cursor.execute(\"select sql from sqlite_master where type = 'table' and name = 'playlist';\").fetchall()\n",
    "connection.close()\n",
    "\n",
    "print(\"tables include in tutorial.db\")\n",
    "for x in tables:\n",
    "    print('   :', x)\n",
    "print('------')\n",
    "print(schema[0][0])"
   ]
  },
  {
   "cell_type": "code",
   "execution_count": 16,
   "id": "eb00d75c-f829-4eca-9807-6be0c3859689",
   "metadata": {},
   "outputs": [
    {
     "data": {
      "text/plain": [
       "[('CREATE TABLE playlist(\\nlist_id INTEGER PRIMARY KEY,\\nlist_name TEXT NOT NULL,\\nuser_id TEXT NOT NULL,\\nFOREIGN KEY(user_id) REFERENCES user(id)\\n)',)]"
      ]
     },
     "execution_count": 16,
     "metadata": {},
     "output_type": "execute_result"
    }
   ],
   "source": [
    "schema"
   ]
  },
  {
   "cell_type": "code",
   "execution_count": 23,
   "id": "dbe1c30c-3ae6-45e6-8fc3-023653faf222",
   "metadata": {},
   "outputs": [
    {
     "name": "stdout",
     "output_type": "stream",
     "text": [
      "CREATE TABLE playlist(\n",
      "list_id INTEGER PRIMARY KEY,\n",
      "list_name TEXT NOT NULL,\n",
      "user_id TEXT NOT NULL,\n",
      "FOREIGN KEY(user_id) REFERENCES user(id)\n",
      ")\n"
     ]
    }
   ],
   "source": [
    "print(schema[0][0])"
   ]
  }
 ],
 "metadata": {
  "kernelspec": {
   "display_name": "Python 3 (ipykernel)",
   "language": "python",
   "name": "python3"
  },
  "language_info": {
   "codemirror_mode": {
    "name": "ipython",
    "version": 3
   },
   "file_extension": ".py",
   "mimetype": "text/x-python",
   "name": "python",
   "nbconvert_exporter": "python",
   "pygments_lexer": "ipython3",
   "version": "3.8.12"
  }
 },
 "nbformat": 4,
 "nbformat_minor": 5
}
